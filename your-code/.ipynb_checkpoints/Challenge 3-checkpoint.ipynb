{
 "cells": [
  {
   "cell_type": "markdown",
   "metadata": {},
   "source": [
    "# Challenge 3"
   ]
  },
  {
   "cell_type": "code",
   "execution_count": 183,
   "metadata": {},
   "outputs": [],
   "source": [
    "import requests\n",
    "import pandas as pd\n",
    "from pandas.io.json import json_normalize\n",
    "import base64"
   ]
  },
  {
   "cell_type": "code",
   "execution_count": 2,
   "metadata": {},
   "outputs": [],
   "source": [
    "scavenger = requests.get(\"https://api.github.com/repos/ironhack-datalabs/scavenger\")\n"
   ]
  },
  {
   "cell_type": "code",
   "execution_count": 3,
   "metadata": {},
   "outputs": [
    {
     "data": {
      "text/plain": [
       "dict_keys(['id', 'node_id', 'name', 'full_name', 'private', 'owner', 'html_url', 'description', 'fork', 'url', 'forks_url', 'keys_url', 'collaborators_url', 'teams_url', 'hooks_url', 'issue_events_url', 'events_url', 'assignees_url', 'branches_url', 'tags_url', 'blobs_url', 'git_tags_url', 'git_refs_url', 'trees_url', 'statuses_url', 'languages_url', 'stargazers_url', 'contributors_url', 'subscribers_url', 'subscription_url', 'commits_url', 'git_commits_url', 'comments_url', 'issue_comment_url', 'contents_url', 'compare_url', 'merges_url', 'archive_url', 'downloads_url', 'issues_url', 'pulls_url', 'milestones_url', 'notifications_url', 'labels_url', 'releases_url', 'deployments_url', 'created_at', 'updated_at', 'pushed_at', 'git_url', 'ssh_url', 'clone_url', 'svn_url', 'homepage', 'size', 'stargazers_count', 'watchers_count', 'language', 'has_issues', 'has_projects', 'has_downloads', 'has_wiki', 'has_pages', 'forks_count', 'mirror_url', 'archived', 'disabled', 'open_issues_count', 'license', 'forks', 'open_issues', 'watchers', 'default_branch', 'organization', 'network_count', 'subscribers_count'])"
      ]
     },
     "execution_count": 3,
     "metadata": {},
     "output_type": "execute_result"
    }
   ],
   "source": [
    "json= scavenger.json()\n",
    "json.keys()"
   ]
  },
  {
   "cell_type": "code",
   "execution_count": 4,
   "metadata": {},
   "outputs": [
    {
     "data": {
      "text/plain": [
       "{'id': 162375181,\n",
       " 'node_id': 'MDEwOlJlcG9zaXRvcnkxNjIzNzUxODE=',\n",
       " 'name': 'scavenger',\n",
       " 'full_name': 'ironhack-datalabs/scavenger',\n",
       " 'private': False,\n",
       " 'owner': {'login': 'ironhack-datalabs',\n",
       "  'id': 44225188,\n",
       "  'node_id': 'MDEyOk9yZ2FuaXphdGlvbjQ0MjI1MTg4',\n",
       "  'avatar_url': 'https://avatars2.githubusercontent.com/u/44225188?v=4',\n",
       "  'gravatar_id': '',\n",
       "  'url': 'https://api.github.com/users/ironhack-datalabs',\n",
       "  'html_url': 'https://github.com/ironhack-datalabs',\n",
       "  'followers_url': 'https://api.github.com/users/ironhack-datalabs/followers',\n",
       "  'following_url': 'https://api.github.com/users/ironhack-datalabs/following{/other_user}',\n",
       "  'gists_url': 'https://api.github.com/users/ironhack-datalabs/gists{/gist_id}',\n",
       "  'starred_url': 'https://api.github.com/users/ironhack-datalabs/starred{/owner}{/repo}',\n",
       "  'subscriptions_url': 'https://api.github.com/users/ironhack-datalabs/subscriptions',\n",
       "  'organizations_url': 'https://api.github.com/users/ironhack-datalabs/orgs',\n",
       "  'repos_url': 'https://api.github.com/users/ironhack-datalabs/repos',\n",
       "  'events_url': 'https://api.github.com/users/ironhack-datalabs/events{/privacy}',\n",
       "  'received_events_url': 'https://api.github.com/users/ironhack-datalabs/received_events',\n",
       "  'type': 'Organization',\n",
       "  'site_admin': False},\n",
       " 'html_url': 'https://github.com/ironhack-datalabs/scavenger',\n",
       " 'description': None,\n",
       " 'fork': False,\n",
       " 'url': 'https://api.github.com/repos/ironhack-datalabs/scavenger',\n",
       " 'forks_url': 'https://api.github.com/repos/ironhack-datalabs/scavenger/forks',\n",
       " 'keys_url': 'https://api.github.com/repos/ironhack-datalabs/scavenger/keys{/key_id}',\n",
       " 'collaborators_url': 'https://api.github.com/repos/ironhack-datalabs/scavenger/collaborators{/collaborator}',\n",
       " 'teams_url': 'https://api.github.com/repos/ironhack-datalabs/scavenger/teams',\n",
       " 'hooks_url': 'https://api.github.com/repos/ironhack-datalabs/scavenger/hooks',\n",
       " 'issue_events_url': 'https://api.github.com/repos/ironhack-datalabs/scavenger/issues/events{/number}',\n",
       " 'events_url': 'https://api.github.com/repos/ironhack-datalabs/scavenger/events',\n",
       " 'assignees_url': 'https://api.github.com/repos/ironhack-datalabs/scavenger/assignees{/user}',\n",
       " 'branches_url': 'https://api.github.com/repos/ironhack-datalabs/scavenger/branches{/branch}',\n",
       " 'tags_url': 'https://api.github.com/repos/ironhack-datalabs/scavenger/tags',\n",
       " 'blobs_url': 'https://api.github.com/repos/ironhack-datalabs/scavenger/git/blobs{/sha}',\n",
       " 'git_tags_url': 'https://api.github.com/repos/ironhack-datalabs/scavenger/git/tags{/sha}',\n",
       " 'git_refs_url': 'https://api.github.com/repos/ironhack-datalabs/scavenger/git/refs{/sha}',\n",
       " 'trees_url': 'https://api.github.com/repos/ironhack-datalabs/scavenger/git/trees{/sha}',\n",
       " 'statuses_url': 'https://api.github.com/repos/ironhack-datalabs/scavenger/statuses/{sha}',\n",
       " 'languages_url': 'https://api.github.com/repos/ironhack-datalabs/scavenger/languages',\n",
       " 'stargazers_url': 'https://api.github.com/repos/ironhack-datalabs/scavenger/stargazers',\n",
       " 'contributors_url': 'https://api.github.com/repos/ironhack-datalabs/scavenger/contributors',\n",
       " 'subscribers_url': 'https://api.github.com/repos/ironhack-datalabs/scavenger/subscribers',\n",
       " 'subscription_url': 'https://api.github.com/repos/ironhack-datalabs/scavenger/subscription',\n",
       " 'commits_url': 'https://api.github.com/repos/ironhack-datalabs/scavenger/commits{/sha}',\n",
       " 'git_commits_url': 'https://api.github.com/repos/ironhack-datalabs/scavenger/git/commits{/sha}',\n",
       " 'comments_url': 'https://api.github.com/repos/ironhack-datalabs/scavenger/comments{/number}',\n",
       " 'issue_comment_url': 'https://api.github.com/repos/ironhack-datalabs/scavenger/issues/comments{/number}',\n",
       " 'contents_url': 'https://api.github.com/repos/ironhack-datalabs/scavenger/contents/{+path}',\n",
       " 'compare_url': 'https://api.github.com/repos/ironhack-datalabs/scavenger/compare/{base}...{head}',\n",
       " 'merges_url': 'https://api.github.com/repos/ironhack-datalabs/scavenger/merges',\n",
       " 'archive_url': 'https://api.github.com/repos/ironhack-datalabs/scavenger/{archive_format}{/ref}',\n",
       " 'downloads_url': 'https://api.github.com/repos/ironhack-datalabs/scavenger/downloads',\n",
       " 'issues_url': 'https://api.github.com/repos/ironhack-datalabs/scavenger/issues{/number}',\n",
       " 'pulls_url': 'https://api.github.com/repos/ironhack-datalabs/scavenger/pulls{/number}',\n",
       " 'milestones_url': 'https://api.github.com/repos/ironhack-datalabs/scavenger/milestones{/number}',\n",
       " 'notifications_url': 'https://api.github.com/repos/ironhack-datalabs/scavenger/notifications{?since,all,participating}',\n",
       " 'labels_url': 'https://api.github.com/repos/ironhack-datalabs/scavenger/labels{/name}',\n",
       " 'releases_url': 'https://api.github.com/repos/ironhack-datalabs/scavenger/releases{/id}',\n",
       " 'deployments_url': 'https://api.github.com/repos/ironhack-datalabs/scavenger/deployments',\n",
       " 'created_at': '2018-12-19T03:01:30Z',\n",
       " 'updated_at': '2018-12-19T03:05:09Z',\n",
       " 'pushed_at': '2018-12-19T03:05:07Z',\n",
       " 'git_url': 'git://github.com/ironhack-datalabs/scavenger.git',\n",
       " 'ssh_url': 'git@github.com:ironhack-datalabs/scavenger.git',\n",
       " 'clone_url': 'https://github.com/ironhack-datalabs/scavenger.git',\n",
       " 'svn_url': 'https://github.com/ironhack-datalabs/scavenger',\n",
       " 'homepage': None,\n",
       " 'size': 3,\n",
       " 'stargazers_count': 0,\n",
       " 'watchers_count': 0,\n",
       " 'language': None,\n",
       " 'has_issues': True,\n",
       " 'has_projects': True,\n",
       " 'has_downloads': True,\n",
       " 'has_wiki': True,\n",
       " 'has_pages': False,\n",
       " 'forks_count': 2,\n",
       " 'mirror_url': None,\n",
       " 'archived': False,\n",
       " 'disabled': False,\n",
       " 'open_issues_count': 0,\n",
       " 'license': None,\n",
       " 'forks': 2,\n",
       " 'open_issues': 0,\n",
       " 'watchers': 0,\n",
       " 'default_branch': 'master',\n",
       " 'organization': {'login': 'ironhack-datalabs',\n",
       "  'id': 44225188,\n",
       "  'node_id': 'MDEyOk9yZ2FuaXphdGlvbjQ0MjI1MTg4',\n",
       "  'avatar_url': 'https://avatars2.githubusercontent.com/u/44225188?v=4',\n",
       "  'gravatar_id': '',\n",
       "  'url': 'https://api.github.com/users/ironhack-datalabs',\n",
       "  'html_url': 'https://github.com/ironhack-datalabs',\n",
       "  'followers_url': 'https://api.github.com/users/ironhack-datalabs/followers',\n",
       "  'following_url': 'https://api.github.com/users/ironhack-datalabs/following{/other_user}',\n",
       "  'gists_url': 'https://api.github.com/users/ironhack-datalabs/gists{/gist_id}',\n",
       "  'starred_url': 'https://api.github.com/users/ironhack-datalabs/starred{/owner}{/repo}',\n",
       "  'subscriptions_url': 'https://api.github.com/users/ironhack-datalabs/subscriptions',\n",
       "  'organizations_url': 'https://api.github.com/users/ironhack-datalabs/orgs',\n",
       "  'repos_url': 'https://api.github.com/users/ironhack-datalabs/repos',\n",
       "  'events_url': 'https://api.github.com/users/ironhack-datalabs/events{/privacy}',\n",
       "  'received_events_url': 'https://api.github.com/users/ironhack-datalabs/received_events',\n",
       "  'type': 'Organization',\n",
       "  'site_admin': False},\n",
       " 'network_count': 2,\n",
       " 'subscribers_count': 2}"
      ]
     },
     "execution_count": 4,
     "metadata": {},
     "output_type": "execute_result"
    }
   ],
   "source": [
    "json"
   ]
  },
  {
   "cell_type": "code",
   "execution_count": 5,
   "metadata": {},
   "outputs": [
    {
     "data": {
      "text/plain": [
       "<Response [200]>"
      ]
     },
     "execution_count": 5,
     "metadata": {},
     "output_type": "execute_result"
    }
   ],
   "source": [
    "git = requests.get(\"https://api.github.com/repos/ironhack-datalabs/scavenger/git/refs\")\n",
    "git"
   ]
  },
  {
   "cell_type": "code",
   "execution_count": 6,
   "metadata": {},
   "outputs": [],
   "source": [
    "normaliced= json_normalize(git.json())\n",
    "#algo = requests.get(url)"
   ]
  },
  {
   "cell_type": "code",
   "execution_count": 7,
   "metadata": {},
   "outputs": [
    {
     "data": {
      "text/plain": [
       "'9308ccc8a4c34c5e3a991ee815222a9691c32476'"
      ]
     },
     "execution_count": 7,
     "metadata": {},
     "output_type": "execute_result"
    }
   ],
   "source": [
    "sha = normaliced['object.sha']\n",
    "sha[0]"
   ]
  },
  {
   "cell_type": "code",
   "execution_count": 8,
   "metadata": {},
   "outputs": [],
   "source": [
    "commits = requests.get(f\"https://api.github.com/repos/ironhack-datalabs/scavenger/git/commits/{sha[0]}\")"
   ]
  },
  {
   "cell_type": "code",
   "execution_count": 9,
   "metadata": {},
   "outputs": [
    {
     "data": {
      "text/plain": [
       "{'sha': '9308ccc8a4c34c5e3a991ee815222a9691c32476',\n",
       " 'node_id': 'MDY6Q29tbWl0MTYyMzc1MTgxOjkzMDhjY2M4YTRjMzRjNWUzYTk5MWVlODE1MjIyYTk2OTFjMzI0NzY=',\n",
       " 'url': 'https://api.github.com/repos/ironhack-datalabs/scavenger/git/commits/9308ccc8a4c34c5e3a991ee815222a9691c32476',\n",
       " 'html_url': 'https://github.com/ironhack-datalabs/scavenger/commit/9308ccc8a4c34c5e3a991ee815222a9691c32476',\n",
       " 'author': {'name': 'Zhou Zhou',\n",
       "  'email': 'zhou.eye8@gmail.com',\n",
       "  'date': '2018-12-19T03:03:57Z'},\n",
       " 'committer': {'name': 'Zhou Zhou',\n",
       "  'email': 'zhou.eye8@gmail.com',\n",
       "  'date': '2018-12-19T03:03:57Z'},\n",
       " 'tree': {'sha': '0d82bf748275dbc1239a11e9157b198d88da7383',\n",
       "  'url': 'https://api.github.com/repos/ironhack-datalabs/scavenger/git/trees/0d82bf748275dbc1239a11e9157b198d88da7383'},\n",
       " 'message': 'initial commit',\n",
       " 'parents': [],\n",
       " 'verification': {'verified': False,\n",
       "  'reason': 'unsigned',\n",
       "  'signature': None,\n",
       "  'payload': None}}"
      ]
     },
     "execution_count": 9,
     "metadata": {},
     "output_type": "execute_result"
    }
   ],
   "source": [
    "commits.json()"
   ]
  },
  {
   "cell_type": "code",
   "execution_count": 10,
   "metadata": {},
   "outputs": [],
   "source": [
    "commitsNorm=json_normalize(commits.json())"
   ]
  },
  {
   "cell_type": "code",
   "execution_count": 11,
   "metadata": {},
   "outputs": [
    {
     "data": {
      "text/plain": [
       "'https://api.github.com/repos/ironhack-datalabs/scavenger/git/trees/0d82bf748275dbc1239a11e9157b198d88da7383'"
      ]
     },
     "execution_count": 11,
     "metadata": {},
     "output_type": "execute_result"
    }
   ],
   "source": [
    "urltree = commitsNorm['tree.url']\n",
    "urltree[0]"
   ]
  },
  {
   "cell_type": "code",
   "execution_count": 12,
   "metadata": {},
   "outputs": [],
   "source": [
    "trees = requests.get(urltree[0])"
   ]
  },
  {
   "cell_type": "code",
   "execution_count": 48,
   "metadata": {},
   "outputs": [],
   "source": [
    "algo = trees.json()\n",
    "otro = json_normalize(algo['tree'])"
   ]
  },
  {
   "cell_type": "code",
   "execution_count": 49,
   "metadata": {},
   "outputs": [],
   "source": [
    "urls = otro['url']"
   ]
  },
  {
   "cell_type": "code",
   "execution_count": 153,
   "metadata": {},
   "outputs": [],
   "source": [
    "hunt = [requests.get(url) for url in urls]"
   ]
  },
  {
   "cell_type": "code",
   "execution_count": 154,
   "metadata": {},
   "outputs": [
    {
     "name": "stdout",
     "output_type": "stream",
     "text": [
      "<class 'list'>\n"
     ]
    }
   ],
   "source": [
    "print(type(hunt))"
   ]
  },
  {
   "cell_type": "code",
   "execution_count": 162,
   "metadata": {},
   "outputs": [],
   "source": [
    "#hunt.remove(0)\n",
    "scavengerhunt =dict()\n",
    "scavengerlist = []\n",
    "for elemento in range(1,len(hunt)):\n",
    "    contenido = hunt[elemento].json()\n",
    "    arbol = contenido['tree']\n",
    "    for i in range(len(arbol)):\n",
    "        camino = arbol[i]\n",
    "        if camino['path'].startswith('.'):\n",
    "            scavengerlist.append(camino['path'])\n",
    "            scavengerhunt[camino['path']] = camino['url']"
   ]
  },
  {
   "cell_type": "code",
   "execution_count": 166,
   "metadata": {},
   "outputs": [
    {
     "data": {
      "text/plain": [
       "{'.0006.scavengerhunt': 'https://api.github.com/repos/ironhack-datalabs/scavenger/git/blobs/1c9064284a24b3486015eafdb391b141c27ada2b',\n",
       " '.0008.scavengerhunt': 'https://api.github.com/repos/ironhack-datalabs/scavenger/git/blobs/e351fb73264581ce26504b97ef07daea35116f32',\n",
       " '.0012.scavengerhunt': 'https://api.github.com/repos/ironhack-datalabs/scavenger/git/blobs/209e3ef4b6247ce746048d5711befda46206d235',\n",
       " '.0007.scavengerhunt': 'https://api.github.com/repos/ironhack-datalabs/scavenger/git/blobs/6abb415e0ae3450be0f323113bcca2af195ebbff',\n",
       " '.0021.scavengerhunt': 'https://api.github.com/repos/ironhack-datalabs/scavenger/git/blobs/fb828e4a926b0a84fc16111fc0ee3eeec41f0ce7',\n",
       " '.0022.scavengerhunt': 'https://api.github.com/repos/ironhack-datalabs/scavenger/git/blobs/bf3efa02f721c40c03a613824e345243a35f6812',\n",
       " '.0005.scavengerhunt': 'https://api.github.com/repos/ironhack-datalabs/scavenger/git/blobs/3aaf448b40f878cf3067e2323616143bdde600de',\n",
       " '.0018.scavengerhunt': 'https://api.github.com/repos/ironhack-datalabs/scavenger/git/blobs/397b22b2dc371e8db59ed327f0b75321e4c0d0f2',\n",
       " '.0016.scavengerhunt': 'https://api.github.com/repos/ironhack-datalabs/scavenger/git/blobs/f5cb13223fdc1b11f4cfbbe1694f533b3c579fa0',\n",
       " '.0024.scavengerhunt': 'https://api.github.com/repos/ironhack-datalabs/scavenger/git/blobs/47eb4306e5fec9e051dacabc7039348109784b94',\n",
       " '.0010.scavengerhunt': 'https://api.github.com/repos/ironhack-datalabs/scavenger/git/blobs/c1187c4badc9be6990570cef850fc87dcf3523b0',\n",
       " '.0014.scavengerhunt': 'https://api.github.com/repos/ironhack-datalabs/scavenger/git/blobs/1c9064284a24b3486015eafdb391b141c27ada2b',\n",
       " '.0011.scavengerhunt': 'https://api.github.com/repos/ironhack-datalabs/scavenger/git/blobs/1a00a70b240d8947af0aaa04f1a93a52c72f7420',\n",
       " '.0023.scavengerhunt': 'https://api.github.com/repos/ironhack-datalabs/scavenger/git/blobs/04d0ffb8d895a9e3ee244493e829a24468bd1f60',\n",
       " '.0020.scavengerhunt': 'https://api.github.com/repos/ironhack-datalabs/scavenger/git/blobs/41d25f51c301c5eee3737998b0d86573e4e91b90',\n",
       " '.0003.scavengerhunt': 'https://api.github.com/repos/ironhack-datalabs/scavenger/git/blobs/ba524d7abc4b3a0c0995eb85c9eef470e9e7172f',\n",
       " '.0004.scavengerhunt': 'https://api.github.com/repos/ironhack-datalabs/scavenger/git/blobs/d15a2cc44e31b14c65264271b81072e5ba0e1634',\n",
       " '.0019.scavengerhunt': 'https://api.github.com/repos/ironhack-datalabs/scavenger/git/blobs/09e16f36b3c4993ba924b1074629283a49869be9',\n",
       " '.0017.scavengerhunt': 'https://api.github.com/repos/ironhack-datalabs/scavenger/git/blobs/e351fb73264581ce26504b97ef07daea35116f32',\n",
       " '.0002.scavengerhunt': 'https://api.github.com/repos/ironhack-datalabs/scavenger/git/blobs/1269488f7fb1f4b56a8c0e5eb48cecbfadfa9219',\n",
       " '.0013.scavengerhunt': 'https://api.github.com/repos/ironhack-datalabs/scavenger/git/blobs/3aaf448b40f878cf3067e2323616143bdde600de',\n",
       " '.0015.scavengerhunt': 'https://api.github.com/repos/ironhack-datalabs/scavenger/git/blobs/6abb415e0ae3450be0f323113bcca2af195ebbff',\n",
       " '.0009.scavengerhunt': 'https://api.github.com/repos/ironhack-datalabs/scavenger/git/blobs/f5cb13223fdc1b11f4cfbbe1694f533b3c579fa0',\n",
       " '.0001.scavengerhunt': 'https://api.github.com/repos/ironhack-datalabs/scavenger/git/blobs/2add7632f1323136324efbf38ec66db1838b6173'}"
      ]
     },
     "execution_count": 166,
     "metadata": {},
     "output_type": "execute_result"
    }
   ],
   "source": [
    "scavengerhunt"
   ]
  },
  {
   "cell_type": "code",
   "execution_count": 167,
   "metadata": {},
   "outputs": [
    {
     "data": {
      "text/plain": [
       "['.0001.scavengerhunt',\n",
       " '.0002.scavengerhunt',\n",
       " '.0003.scavengerhunt',\n",
       " '.0004.scavengerhunt',\n",
       " '.0005.scavengerhunt',\n",
       " '.0006.scavengerhunt',\n",
       " '.0007.scavengerhunt',\n",
       " '.0008.scavengerhunt',\n",
       " '.0009.scavengerhunt',\n",
       " '.0010.scavengerhunt',\n",
       " '.0011.scavengerhunt',\n",
       " '.0012.scavengerhunt',\n",
       " '.0013.scavengerhunt',\n",
       " '.0014.scavengerhunt',\n",
       " '.0015.scavengerhunt',\n",
       " '.0016.scavengerhunt',\n",
       " '.0017.scavengerhunt',\n",
       " '.0018.scavengerhunt',\n",
       " '.0019.scavengerhunt',\n",
       " '.0020.scavengerhunt',\n",
       " '.0021.scavengerhunt',\n",
       " '.0022.scavengerhunt',\n",
       " '.0023.scavengerhunt',\n",
       " '.0024.scavengerhunt']"
      ]
     },
     "execution_count": 167,
     "metadata": {},
     "output_type": "execute_result"
    }
   ],
   "source": [
    "scavengerlist.sort()\n",
    "scavengerlist"
   ]
  },
  {
   "cell_type": "code",
   "execution_count": 186,
   "metadata": {},
   "outputs": [],
   "source": [
    "texto = []\n",
    "for letras in scavengerlist:\n",
    "    respuesta = requests.get(scavengerhunt.get(letras)).json()\n",
    "    texto.append(respuesta['content'])"
   ]
  },
  {
   "cell_type": "code",
   "execution_count": 193,
   "metadata": {},
   "outputs": [],
   "source": [
    "decifrar = []\n",
    "for palabras in texto:\n",
    "    palabras = palabras.replace('\\n', '')\n",
    "    decifrar.append(base64.b64decode(palabras))"
   ]
  },
  {
   "cell_type": "code",
   "execution_count": 194,
   "metadata": {},
   "outputs": [
    {
     "data": {
      "text/plain": [
       "[b'In\\n',\n",
       " b'data\\n',\n",
       " b'science,\\n',\n",
       " b'80\\n',\n",
       " b'percent\\n',\n",
       " b'of\\n',\n",
       " b'time\\n',\n",
       " b'spent\\n',\n",
       " b'is\\n',\n",
       " b'preparing\\n',\n",
       " b'data,\\n',\n",
       " b'20\\n',\n",
       " b'percent\\n',\n",
       " b'of\\n',\n",
       " b'time\\n',\n",
       " b'is\\n',\n",
       " b'spent\\n',\n",
       " b'complaining\\n',\n",
       " b'about\\n',\n",
       " b'the\\n',\n",
       " b'need\\n',\n",
       " b'to\\n',\n",
       " b'prepare\\n',\n",
       " b'data.\\n']"
      ]
     },
     "execution_count": 194,
     "metadata": {},
     "output_type": "execute_result"
    }
   ],
   "source": [
    "decifrar"
   ]
  },
  {
   "cell_type": "code",
   "execution_count": 213,
   "metadata": {},
   "outputs": [
    {
     "data": {
      "text/plain": [
       "'In  data  science,  80  percent  of  time  spent  is  preparing  data,  20  percent  of  time  is  spent  complaining  about  the  need  to  prepare  data.  '"
      ]
     },
     "execution_count": 213,
     "metadata": {},
     "output_type": "execute_result"
    }
   ],
   "source": [
    "frase = ''\n",
    "for elemento in decifrar:\n",
    "    elemento = str(elemento).replace(\"b'\", '').replace(\"\\\\n'\", '')\n",
    "    frase = frase + elemento + '  '\n",
    "frase"
   ]
  },
  {
   "cell_type": "code",
   "execution_count": 212,
   "metadata": {},
   "outputs": [],
   "source": []
  },
  {
   "cell_type": "code",
   "execution_count": null,
   "metadata": {},
   "outputs": [],
   "source": []
  }
 ],
 "metadata": {
  "kernelspec": {
   "display_name": "Python 3",
   "language": "python",
   "name": "python3"
  },
  "language_info": {
   "codemirror_mode": {
    "name": "ipython",
    "version": 3
   },
   "file_extension": ".py",
   "mimetype": "text/x-python",
   "name": "python",
   "nbconvert_exporter": "python",
   "pygments_lexer": "ipython3",
   "version": "3.7.0"
  }
 },
 "nbformat": 4,
 "nbformat_minor": 2
}
